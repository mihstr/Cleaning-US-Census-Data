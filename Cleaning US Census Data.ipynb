{
 "cells": [
  {
   "cell_type": "markdown",
   "metadata": {},
   "source": [
    "# Cleaning US Census Data"
   ]
  },
  {
   "cell_type": "markdown",
   "metadata": {},
   "source": [
    "You just got hired as a Data Analyst at the Census Bureau, which collects census data and creates interesting visualizations and insights from it.\n",
    "\n",
    "The person who had your job before you left you all the data they had for the most recent census. It is in multiple `csv` files. They didn't use pandas, they would just look through these `csv` files manually whenever they wanted to find something. Sometimes they would copy and paste certain numbers into Excel to make charts.\n",
    "\n",
    "The thought of it makes you shiver. This is not scalable or repeatable.\n",
    "\n",
    "Your boss wants you to make some scatterplots and histograms by the end of the day. Can you get this data into `pandas` and into reasonable shape so that you can make these histograms?"
   ]
  },
  {
   "cell_type": "markdown",
   "metadata": {},
   "source": [
    "## Inspect the Data!"
   ]
  },
  {
   "cell_type": "markdown",
   "metadata": {},
   "source": [
    "1. The first visualization your boss wants you to make is a scatterplot that shows average income in a state vs proportion of women in that state.\n",
    "\n",
    "   Open some of the census `csv` files that came with the kit you downloaded. How are they named? What kind of information do they hold? Will they help us make this graph?"
   ]
  },
  {
   "attachments": {},
   "cell_type": "markdown",
   "metadata": {},
   "source": [
    "##### _CSVs include all needed information for such scatter plot. Some data cleaning will be needed though._"
   ]
  },
  {
   "cell_type": "markdown",
   "metadata": {},
   "source": [
    "2. It will be easier to inspect this data once we have it in a DataFrame. You can't even call `.head()` on these `csv`s! How are you supposed to read them?\n",
    "\n",
    "   Using `glob`, loop through the census files available and load them into DataFrames. Then, concatenate all of those DataFrames together into one DataFrame, called something like `us_census`."
   ]
  },
  {
   "cell_type": "code",
   "execution_count": 156,
   "metadata": {},
   "outputs": [],
   "source": [
    "import pandas as pd\n",
    "import numpy as np\n",
    "import matplotlib.pyplot as plt\n",
    "import glob"
   ]
  },
  {
   "cell_type": "code",
   "execution_count": 157,
   "metadata": {},
   "outputs": [
    {
     "name": "stdout",
     "output_type": "stream",
     "text": [
      "['states8.csv', 'states9.csv', 'states4.csv', 'states5.csv', 'states7.csv', 'states6.csv', 'states2.csv', 'states3.csv', 'states1.csv', 'states0.csv']\n"
     ]
    }
   ],
   "source": [
    "files = glob.glob(\"states*.csv\")\n",
    "print(files)\n",
    "\n",
    "df_list = []\n",
    "\n",
    "for file in files:\n",
    "   data = pd.read_csv(file, index_col=0)\n",
    "   df_list.append(data)\n",
    "\n",
    "df = pd.concat(df_list)"
   ]
  },
  {
   "cell_type": "markdown",
   "metadata": {},
   "source": [
    "3. Look at the `.columns` and the `.dtypes` of the `us_census` DataFrame. Are those datatypes going to hinder you as you try to make histograms?"
   ]
  },
  {
   "cell_type": "code",
   "execution_count": 158,
   "metadata": {},
   "outputs": [
    {
     "name": "stdout",
     "output_type": "stream",
     "text": [
      "Index(['State', 'TotalPop', 'Hispanic', 'White', 'Black', 'Native', 'Asian',\n",
      "       'Pacific', 'Income', 'GenderPop'],\n",
      "      dtype='object') State        object\n",
      "TotalPop      int64\n",
      "Hispanic     object\n",
      "White        object\n",
      "Black        object\n",
      "Native       object\n",
      "Asian        object\n",
      "Pacific      object\n",
      "Income       object\n",
      "GenderPop    object\n",
      "dtype: object\n"
     ]
    }
   ],
   "source": [
    "print(df.columns, df.dtypes)"
   ]
  },
  {
   "cell_type": "markdown",
   "metadata": {},
   "source": [
    "4. Look at the `head()` of the DataFrame so that you can understand why some of these `dtypes` are objects instead of integers or floats.\n",
    "\n",
    "   Start to make a plan for how to convert these columns into the right types for manipulation."
   ]
  },
  {
   "cell_type": "code",
   "execution_count": 159,
   "metadata": {},
   "outputs": [
    {
     "name": "stdout",
     "output_type": "stream",
     "text": [
      "            State  TotalPop Hispanic   White   Black Native  Asian Pacific  \\\n",
      "0    Rhode Island   1053661   13.36%  74.33%   5.68%  0.35%  3.25%   0.04%   \n",
      "1  South Carolina   4777576    5.06%  62.89%  28.75%  0.29%  1.25%   0.05%   \n",
      "2    South Dakota    843190    3.24%  82.50%   1.42%  9.42%  1.02%   0.04%   \n",
      "3       Tennessee   6499615    4.72%  73.49%  18.28%  0.23%  1.41%   0.04%   \n",
      "4           Texas  26538614   38.05%  44.69%  11.65%  0.26%  3.67%   0.07%   \n",
      "\n",
      "        Income            GenderPop  \n",
      "0  $59,125.27       510388M_543273F  \n",
      "1  $46,296.81     2322409M_2455167F  \n",
      "2  $51,805.41       423477M_419713F  \n",
      "3  $47,328.08     3167756M_3331859F  \n",
      "4  $55,874.52   13171316M_13367298F  \n"
     ]
    }
   ],
   "source": [
    "print(df.head())"
   ]
  },
  {
   "cell_type": "markdown",
   "metadata": {},
   "source": [
    "## Regex to the Rescue"
   ]
  },
  {
   "cell_type": "markdown",
   "metadata": {},
   "source": [
    "5. Use regex to turn the `Income` column into a format that is ready for conversion into a numerical type."
   ]
  },
  {
   "cell_type": "code",
   "execution_count": 160,
   "metadata": {},
   "outputs": [
    {
     "name": "stdout",
     "output_type": "stream",
     "text": [
      "            State  TotalPop Hispanic   White   Black Native  Asian Pacific  \\\n",
      "0    Rhode Island   1053661   13.36%  74.33%   5.68%  0.35%  3.25%   0.04%   \n",
      "1  South Carolina   4777576    5.06%  62.89%  28.75%  0.29%  1.25%   0.05%   \n",
      "2    South Dakota    843190    3.24%  82.50%   1.42%  9.42%  1.02%   0.04%   \n",
      "3       Tennessee   6499615    4.72%  73.49%  18.28%  0.23%  1.41%   0.04%   \n",
      "4           Texas  26538614   38.05%  44.69%  11.65%  0.26%  3.67%   0.07%   \n",
      "\n",
      "     Income            GenderPop  \n",
      "0  59125.27      510388M_543273F  \n",
      "1  46296.81    2322409M_2455167F  \n",
      "2  51805.41      423477M_419713F  \n",
      "3  47328.08    3167756M_3331859F  \n",
      "4  55874.52  13171316M_13367298F  \n"
     ]
    },
    {
     "data": {
      "text/plain": [
       "State         object\n",
       "TotalPop       int64\n",
       "Hispanic      object\n",
       "White         object\n",
       "Black         object\n",
       "Native        object\n",
       "Asian         object\n",
       "Pacific       object\n",
       "Income       float64\n",
       "GenderPop     object\n",
       "dtype: object"
      ]
     },
     "execution_count": 160,
     "metadata": {},
     "output_type": "execute_result"
    }
   ],
   "source": [
    "df.Income = df.Income.replace(\"[\\$]\", \"\", regex=True)\n",
    "df.Income = df.Income.replace(\"[,]\", \"\", regex=True)\n",
    "df.Income = pd.to_numeric(df.Income)\n",
    "\n",
    "print(df.head())\n",
    "\n",
    "df.dtypes"
   ]
  },
  {
   "cell_type": "markdown",
   "metadata": {},
   "source": [
    "6. Look at the `GenderPop` column. We are going to want to separate this into two columns, the `Men` column, and the `Women` column.\n",
    "\n",
    "   Split the column into those two new columns using `str.split` and separating out those results."
   ]
  },
  {
   "cell_type": "code",
   "execution_count": 161,
   "metadata": {},
   "outputs": [
    {
     "name": "stdout",
     "output_type": "stream",
     "text": [
      "0        [510388M, 543273F]\n",
      "1      [2322409M, 2455167F]\n",
      "2        [423477M, 419713F]\n",
      "3      [3167756M, 3331859F]\n",
      "4    [13171316M, 13367298F]\n",
      "5      [1459229M, 1444150F]\n",
      "0      [1459229M, 1444150F]\n",
      "1        [308573M, 318031F]\n",
      "2      [4060948M, 4195682F]\n",
      "3      [3487725M, 3497739F]\n",
      "4        [913631M, 937789F]\n",
      "5      [2851385M, 2890732F]\n",
      "0             [2872643M, F]\n",
      "1      [3249650M, 3455936F]\n",
      "2      [4861973M, 5038598F]\n",
      "3      [2692166M, 2727005F]\n",
      "4      [1451723M, 1536358F]\n",
      "5      [2964003M, 3081445F]\n",
      "0      [2964003M, 3081445F]\n",
      "1              [510163M, F]\n",
      "2        [929606M, 939759F]\n",
      "3      [1407735M, 1390901F]\n",
      "4        [653484M, 670717F]\n",
      "5      [4343027M, 4561386F]\n",
      "0      [5662893M, 5913084F]\n",
      "1      [1906944M, 1942789F]\n",
      "2      [1948453M, 1990780F]\n",
      "3      [6245344M, 6534215F]\n",
      "4      [1713860M, 1869213F]\n",
      "5        [510388M, 543273F]\n",
      "0      [4343027M, 4561386F]\n",
      "1      [1032414M, 1051703F]\n",
      "2     [9541801M, 10131373F]\n",
      "3      [4795408M, 5049925F]\n",
      "4        [367963M, 353677F]\n",
      "5      [5662893M, 5913084F]\n",
      "0      [4883331M, 5123362F]\n",
      "1        [709871M, 696428F]\n",
      "2        [810464M, 806083F]\n",
      "3      [6316899M, 6556862F]\n",
      "4      [3235263M, 3333382F]\n",
      "5      [1534595M, 1558931F]\n",
      "0      [1534595M, 1558931F]\n",
      "1      [1439862M, 1453125F]\n",
      "2      [2164208M, 2233145F]\n",
      "3      [2261156M, 2364097F]\n",
      "4        [650081M, 679019F]\n",
      "5             [2872643M, F]\n",
      "0      [2648667M, 2630239F]\n",
      "1      [1751607M, 1841615F]\n",
      "2        [448413M, 478041F]\n",
      "3        [306674M, 340810F]\n",
      "4     [9600009M, 10045763F]\n",
      "5      [4883331M, 5123362F]\n",
      "0      [2341093M, 2489527F]\n",
      "1        [384160M, 349215F]\n",
      "2      [3299088M, 3342840F]\n",
      "3      [1451913M, 1506295F]\n",
      "4    [19087135M, 19334329F]\n",
      "5      [2648667M, 2630239F]\n",
      "Name: GenderPop, dtype: object\n"
     ]
    },
    {
     "data": {
      "text/html": [
       "<div>\n",
       "<style scoped>\n",
       "    .dataframe tbody tr th:only-of-type {\n",
       "        vertical-align: middle;\n",
       "    }\n",
       "\n",
       "    .dataframe tbody tr th {\n",
       "        vertical-align: top;\n",
       "    }\n",
       "\n",
       "    .dataframe thead th {\n",
       "        text-align: right;\n",
       "    }\n",
       "</style>\n",
       "<table border=\"1\" class=\"dataframe\">\n",
       "  <thead>\n",
       "    <tr style=\"text-align: right;\">\n",
       "      <th></th>\n",
       "      <th>State</th>\n",
       "      <th>TotalPop</th>\n",
       "      <th>Hispanic</th>\n",
       "      <th>White</th>\n",
       "      <th>Black</th>\n",
       "      <th>Native</th>\n",
       "      <th>Asian</th>\n",
       "      <th>Pacific</th>\n",
       "      <th>Income</th>\n",
       "      <th>GenderPop</th>\n",
       "      <th>man</th>\n",
       "      <th>woman</th>\n",
       "    </tr>\n",
       "  </thead>\n",
       "  <tbody>\n",
       "    <tr>\n",
       "      <th>0</th>\n",
       "      <td>Rhode Island</td>\n",
       "      <td>1053661</td>\n",
       "      <td>13.36%</td>\n",
       "      <td>74.33%</td>\n",
       "      <td>5.68%</td>\n",
       "      <td>0.35%</td>\n",
       "      <td>3.25%</td>\n",
       "      <td>0.04%</td>\n",
       "      <td>59125.27</td>\n",
       "      <td>510388M_543273F</td>\n",
       "      <td>510388M</td>\n",
       "      <td>543273F</td>\n",
       "    </tr>\n",
       "    <tr>\n",
       "      <th>1</th>\n",
       "      <td>South Carolina</td>\n",
       "      <td>4777576</td>\n",
       "      <td>5.06%</td>\n",
       "      <td>62.89%</td>\n",
       "      <td>28.75%</td>\n",
       "      <td>0.29%</td>\n",
       "      <td>1.25%</td>\n",
       "      <td>0.05%</td>\n",
       "      <td>46296.81</td>\n",
       "      <td>2322409M_2455167F</td>\n",
       "      <td>2322409M</td>\n",
       "      <td>2455167F</td>\n",
       "    </tr>\n",
       "    <tr>\n",
       "      <th>2</th>\n",
       "      <td>South Dakota</td>\n",
       "      <td>843190</td>\n",
       "      <td>3.24%</td>\n",
       "      <td>82.50%</td>\n",
       "      <td>1.42%</td>\n",
       "      <td>9.42%</td>\n",
       "      <td>1.02%</td>\n",
       "      <td>0.04%</td>\n",
       "      <td>51805.41</td>\n",
       "      <td>423477M_419713F</td>\n",
       "      <td>423477M</td>\n",
       "      <td>419713F</td>\n",
       "    </tr>\n",
       "    <tr>\n",
       "      <th>3</th>\n",
       "      <td>Tennessee</td>\n",
       "      <td>6499615</td>\n",
       "      <td>4.72%</td>\n",
       "      <td>73.49%</td>\n",
       "      <td>18.28%</td>\n",
       "      <td>0.23%</td>\n",
       "      <td>1.41%</td>\n",
       "      <td>0.04%</td>\n",
       "      <td>47328.08</td>\n",
       "      <td>3167756M_3331859F</td>\n",
       "      <td>3167756M</td>\n",
       "      <td>3331859F</td>\n",
       "    </tr>\n",
       "    <tr>\n",
       "      <th>4</th>\n",
       "      <td>Texas</td>\n",
       "      <td>26538614</td>\n",
       "      <td>38.05%</td>\n",
       "      <td>44.69%</td>\n",
       "      <td>11.65%</td>\n",
       "      <td>0.26%</td>\n",
       "      <td>3.67%</td>\n",
       "      <td>0.07%</td>\n",
       "      <td>55874.52</td>\n",
       "      <td>13171316M_13367298F</td>\n",
       "      <td>13171316M</td>\n",
       "      <td>13367298F</td>\n",
       "    </tr>\n",
       "  </tbody>\n",
       "</table>\n",
       "</div>"
      ],
      "text/plain": [
       "            State  TotalPop Hispanic   White   Black Native  Asian Pacific  \\\n",
       "0    Rhode Island   1053661   13.36%  74.33%   5.68%  0.35%  3.25%   0.04%   \n",
       "1  South Carolina   4777576    5.06%  62.89%  28.75%  0.29%  1.25%   0.05%   \n",
       "2    South Dakota    843190    3.24%  82.50%   1.42%  9.42%  1.02%   0.04%   \n",
       "3       Tennessee   6499615    4.72%  73.49%  18.28%  0.23%  1.41%   0.04%   \n",
       "4           Texas  26538614   38.05%  44.69%  11.65%  0.26%  3.67%   0.07%   \n",
       "\n",
       "     Income            GenderPop        man      woman  \n",
       "0  59125.27      510388M_543273F    510388M    543273F  \n",
       "1  46296.81    2322409M_2455167F   2322409M   2455167F  \n",
       "2  51805.41      423477M_419713F    423477M    419713F  \n",
       "3  47328.08    3167756M_3331859F   3167756M   3331859F  \n",
       "4  55874.52  13171316M_13367298F  13171316M  13367298F  "
      ]
     },
     "execution_count": 161,
     "metadata": {},
     "output_type": "execute_result"
    }
   ],
   "source": [
    "split = df.GenderPop.str.split(\"_\")\n",
    "print(split)\n",
    "df[\"man\"] = split.str.get(0)\n",
    "df[\"woman\"] = split.str.get(1)\n",
    "\n",
    "df.head()"
   ]
  },
  {
   "cell_type": "markdown",
   "metadata": {},
   "source": [
    "7. Convert both of the columns into numerical datatypes.\n",
    "\n",
    "   There is still an `M` or an `F` character in each entry! We should remove those before we convert."
   ]
  },
  {
   "cell_type": "code",
   "execution_count": 162,
   "metadata": {},
   "outputs": [
    {
     "data": {
      "text/plain": [
       "State         object\n",
       "TotalPop       int64\n",
       "Hispanic      object\n",
       "White         object\n",
       "Black         object\n",
       "Native        object\n",
       "Asian         object\n",
       "Pacific       object\n",
       "Income       float64\n",
       "GenderPop     object\n",
       "man            int64\n",
       "woman        float64\n",
       "dtype: object"
      ]
     },
     "execution_count": 162,
     "metadata": {},
     "output_type": "execute_result"
    }
   ],
   "source": [
    "df[\"man\"] = pd.to_numeric(df.man.replace(\"[M]\", \"\", regex=True))\n",
    "df[\"woman\"] = pd.to_numeric(df.woman.replace(\"[F]\", \"\", regex=True))\n",
    "\n",
    "df.dtypes"
   ]
  },
  {
   "cell_type": "markdown",
   "metadata": {},
   "source": [
    "8. Now you should have the columns you need to make the graph and make sure your boss does not slam a ruler angrily on your desk because you've wasted your whole day cleaning your data with no results to show!\n",
    "\n",
    "   Use matplotlib to make a scatterplot!\n",
    "   \n",
    "   ```py\n",
    "   plt.scatter(the_women_column, the_income_column)\n",
    "   ```\n",
    "   \n",
    "   Remember to call `plt.show()` to see the graph!"
   ]
  },
  {
   "cell_type": "code",
   "execution_count": 163,
   "metadata": {},
   "outputs": [
    {
     "data": {
      "image/png": "[encoded data removed]",
      "text/plain": [
       "<Figure size 640x480 with 1 Axes>"
      ]
     },
     "metadata": {},
     "output_type": "display_data"
    },
    {
     "data": {
      "text/plain": [
       "<Figure size 640x480 with 0 Axes>"
      ]
     },
     "metadata": {},
     "output_type": "display_data"
    }
   ],
   "source": [
    "plt.scatter(x=(df.woman / df.TotalPop), y=df.Income)\n",
    "plt.show()\n",
    "plt.clf()"
   ]
  },
  {
   "cell_type": "markdown",
   "metadata": {},
   "source": [
    "9. You want to double check your work. You know from experience that these monstrous csv files probably have `nan` values in them! Print out your column with the number of women per state to see.\n",
    "\n",
    "   We can fill in those `nan`s by using pandas' `.fillna()` function.\n",
    "   \n",
    "   You have the `TotalPop` per state, and you have the `Men` per state. As an estimate for the `nan` values in the `Women` column, you could use the `TotalPop` of that state minus the `Men` for that state.\n",
    "   \n",
    "   Print out the `Women` column after filling the `nan` values to see if it worked!"
   ]
  },
  {
   "cell_type": "code",
   "execution_count": 164,
   "metadata": {},
   "outputs": [
    {
     "name": "stdout",
     "output_type": "stream",
     "text": [
      "False    57\n",
      "True      3\n",
      "Name: woman, dtype: int64\n",
      "False    60\n",
      "Name: woman, dtype: int64\n"
     ]
    }
   ],
   "source": [
    "print(df.woman.isna().value_counts())\n",
    "\n",
    "df.woman = df.woman.fillna((df.TotalPop - df.man))\n",
    "\n",
    "print(df.woman.isna().value_counts())"
   ]
  },
  {
   "cell_type": "markdown",
   "metadata": {},
   "source": [
    "10. We forgot to check for duplicates! Use `.duplicated()` on your `census` DataFrame to see if we have duplicate rows in there."
   ]
  },
  {
   "cell_type": "code",
   "execution_count": 165,
   "metadata": {},
   "outputs": [
    {
     "name": "stdout",
     "output_type": "stream",
     "text": [
      "False    51\n",
      "True      9\n",
      "dtype: int64\n"
     ]
    }
   ],
   "source": [
    "print(df.duplicated().value_counts())"
   ]
  },
  {
   "cell_type": "markdown",
   "metadata": {},
   "source": [
    "11. Drop those duplicates using the `.drop_duplicates()` function."
   ]
  },
  {
   "cell_type": "code",
   "execution_count": 166,
   "metadata": {},
   "outputs": [
    {
     "name": "stdout",
     "output_type": "stream",
     "text": [
      "False    51\n",
      "dtype: int64\n"
     ]
    }
   ],
   "source": [
    "df = df.drop_duplicates()\n",
    "\n",
    "print(df.duplicated().value_counts())"
   ]
  },
  {
   "cell_type": "markdown",
   "metadata": {},
   "source": [
    "12. Make the scatterplot again. Now, it should be perfect! Your job is secure, for now."
   ]
  },
  {
   "cell_type": "code",
   "execution_count": 167,
   "metadata": {},
   "outputs": [
    {
     "data": {
      "image/png": "[encoded data removed]",
      "text/plain": [
       "<Figure size 640x480 with 1 Axes>"
      ]
     },
     "metadata": {},
     "output_type": "display_data"
    },
    {
     "data": {
      "text/plain": [
       "<Figure size 640x480 with 0 Axes>"
      ]
     },
     "metadata": {},
     "output_type": "display_data"
    }
   ],
   "source": [
    "plt.scatter(x=(df.woman / df.TotalPop), y=df.Income)\n",
    "plt.show()\n",
    "plt.clf()"
   ]
  },
  {
   "cell_type": "markdown",
   "metadata": {},
   "source": [
    "## Histogram of Races"
   ]
  },
  {
   "cell_type": "markdown",
   "metadata": {},
   "source": [
    "13. Now your boss wants you to make a bunch of histograms out of the race data that you have. Look at the `.columns` again to see what the race categories are."
   ]
  },
  {
   "cell_type": "code",
   "execution_count": 168,
   "metadata": {},
   "outputs": [
    {
     "name": "stdout",
     "output_type": "stream",
     "text": [
      "Index(['State', 'TotalPop', 'Hispanic', 'White', 'Black', 'Native', 'Asian',\n",
      "       'Pacific', 'Income', 'GenderPop', 'man', 'woman'],\n",
      "      dtype='object')\n"
     ]
    }
   ],
   "source": [
    "print(df.columns)"
   ]
  },
  {
   "cell_type": "markdown",
   "metadata": {},
   "source": [
    "14. Try to make a histogram for each one!\n",
    "\n",
    "    You will have to get the columns into the numerical format, and those percentage signs will have to go.\n",
    "    \n",
    "    Don't forget to fill the `nan` values with something that makes sense! You probably dropped the duplicate rows when making your last graph, but it couldn't hurt to check for duplicates again."
   ]
  },
  {
   "cell_type": "code",
   "execution_count": 169,
   "metadata": {},
   "outputs": [
    {
     "name": "stdout",
     "output_type": "stream",
     "text": [
      "            State  TotalPop Hispanic   White   Black Native  Asian Pacific  \\\n",
      "0    Rhode Island   1053661   13.36%  74.33%   5.68%  0.35%  3.25%   0.04%   \n",
      "1  South Carolina   4777576    5.06%  62.89%  28.75%  0.29%  1.25%   0.05%   \n",
      "2    South Dakota    843190    3.24%  82.50%   1.42%  9.42%  1.02%   0.04%   \n",
      "3       Tennessee   6499615    4.72%  73.49%  18.28%  0.23%  1.41%   0.04%   \n",
      "4           Texas  26538614   38.05%  44.69%  11.65%  0.26%  3.67%   0.07%   \n",
      "\n",
      "     Income            GenderPop       man       woman  \n",
      "0  59125.27      510388M_543273F    510388    543273.0  \n",
      "1  46296.81    2322409M_2455167F   2322409   2455167.0  \n",
      "2  51805.41      423477M_419713F    423477    419713.0  \n",
      "3  47328.08    3167756M_3331859F   3167756   3331859.0  \n",
      "4  55874.52  13171316M_13367298F  13171316  13367298.0  \n"
     ]
    }
   ],
   "source": [
    "print(df.head())"
   ]
  },
  {
   "cell_type": "code",
   "execution_count": 170,
   "metadata": {},
   "outputs": [],
   "source": [
    "races = ['Hispanic', 'White', 'Black', 'Native', 'Asian', 'Pacific']"
   ]
  },
  {
   "cell_type": "code",
   "execution_count": 171,
   "metadata": {},
   "outputs": [
    {
     "name": "stdout",
     "output_type": "stream",
     "text": [
      "            State  TotalPop  Hispanic   White   Black  Native   Asian  \\\n",
      "0    Rhode Island   1053661    0.1336  0.7433  0.0568  0.0035  0.0325   \n",
      "1  South Carolina   4777576    0.0506  0.6289  0.2875  0.0029  0.0125   \n",
      "2    South Dakota    843190    0.0324  0.8250  0.0142  0.0942  0.0102   \n",
      "3       Tennessee   6499615    0.0472  0.7349  0.1828  0.0023  0.0141   \n",
      "4           Texas  26538614    0.3805  0.4469  0.1165  0.0026  0.0367   \n",
      "\n",
      "   Pacific    Income            GenderPop       man       woman  \n",
      "0   0.0004  59125.27      510388M_543273F    510388    543273.0  \n",
      "1   0.0005  46296.81    2322409M_2455167F   2322409   2455167.0  \n",
      "2   0.0004  51805.41      423477M_419713F    423477    419713.0  \n",
      "3   0.0004  47328.08    3167756M_3331859F   3167756   3331859.0  \n",
      "4   0.0007  55874.52  13171316M_13367298F  13171316  13367298.0  \n",
      "State         object\n",
      "TotalPop       int64\n",
      "Hispanic     float64\n",
      "White        float64\n",
      "Black        float64\n",
      "Native       float64\n",
      "Asian        float64\n",
      "Pacific      float64\n",
      "Income       float64\n",
      "GenderPop     object\n",
      "man            int64\n",
      "woman        float64\n",
      "dtype: object\n"
     ]
    }
   ],
   "source": [
    "for race in races:\n",
    "   df[race] = df[race].str.replace(\"%\", \"\")\n",
    "   df[race] = pd.to_numeric(df[race])\n",
    "   df[race] = df[race] / 100\n",
    "\n",
    "\n",
    "print(df.head())\n",
    "print(df.dtypes)"
   ]
  },
  {
   "cell_type": "code",
   "execution_count": null,
   "metadata": {},
   "outputs": [],
   "source": []
  }
 ],
 "metadata": {
  "kernelspec": {
   "display_name": "Python-Data (py3-data-science)",
   "language": "python",
   "name": "py3-data-science"
  },
  "language_info": {
   "codemirror_mode": {
    "name": "ipython",
    "version": 3
   },
   "file_extension": ".py",
   "mimetype": "text/x-python",
   "name": "python",
   "nbconvert_exporter": "python",
   "pygments_lexer": "ipython3",
   "version": "3.10.8"
  }
 },
 "nbformat": 4,
 "nbformat_minor": 2
}
